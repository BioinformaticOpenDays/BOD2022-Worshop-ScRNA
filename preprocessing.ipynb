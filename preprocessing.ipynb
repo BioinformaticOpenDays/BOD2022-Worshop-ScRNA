{
 "cells": [
  {
   "cell_type": "markdown",
   "id": "e5c9390d",
   "metadata": {},
   "source": [
    "# Pre-Precessing scRNA-seq data"
   ]
  },
  {
   "cell_type": "markdown",
   "id": "4c817185",
   "metadata": {},
   "source": [
    "## Imports"
   ]
  },
  {
   "cell_type": "code",
   "execution_count": 2,
   "id": "d6a5eb71",
   "metadata": {},
   "outputs": [],
   "source": [
    "import matplotlib.pyplot as plt\n",
    "import scanpy as sc\n",
    "import scrublet as scr\n",
    "import harmonypy as harm"
   ]
  },
  {
   "cell_type": "markdown",
   "id": "c2393871",
   "metadata": {},
   "source": [
    "## Defining scanpy setting"
   ]
  },
  {
   "cell_type": "markdown",
   "id": "45b0ee78",
   "metadata": {},
   "source": [
    "Here we are setting ***scanpy*** to show us warnings and stetting the size of the pictures it will generate."
   ]
  },
  {
   "cell_type": "code",
   "execution_count": 3,
   "id": "bf0e0fd3",
   "metadata": {},
   "outputs": [],
   "source": [
    "sc.settings.verbosity = 3\n",
    "sc.settings.set_figure_params(dpi=80)\n",
    "\n",
    "results_file = 'preprocessing/preprocessed.h5ad'  # the file that will store the analysis results\n"
   ]
  },
  {
   "cell_type": "markdown",
   "id": "882f8c1c",
   "metadata": {},
   "source": [
    "## Load and prepare dataset"
   ]
  },
  {
   "cell_type": "markdown",
   "id": "de4dcdb2",
   "metadata": {},
   "source": [
    "### Loading"
   ]
  },
  {
   "cell_type": "markdown",
   "id": "5ce3d067",
   "metadata": {},
   "source": [
    "Here we will create our **AnnData** object, that wil contain our dataset. In this case we will use the **paul15** dataset ([Paul *et al.* 2015](DOI:https://doi.org/10.1016/j.cell.2015.11.013)) which is integatred with **scanpy**. Far that reason we only need to type the following commands in order to obtain the dataset."
   ]
  },
  {
   "cell_type": "code",
   "execution_count": 4,
   "id": "9c49644b",
   "metadata": {},
   "outputs": [
    {
     "name": "stdout",
     "output_type": "stream",
     "text": [
      "WARNING: In Scanpy 0.*, this returned logarithmized data. Now it returns non-logarithmized data.\n"
     ]
    },
    {
     "name": "stderr",
     "output_type": "stream",
     "text": [
      "/home/dm/miniconda3/envs/pbmc_scrna/lib/python3.9/site-packages/anndata/_core/anndata.py:1228: FutureWarning: The `inplace` parameter in pandas.Categorical.reorder_categories is deprecated and will be removed in a future version. Removing unused categories will always return a new Categorical object.\n",
      "  c.reorder_categories(natsorted(c.categories), inplace=True)\n",
      "... storing 'paul15_clusters' as categorical\n",
      "Trying to set attribute `._uns` of view, copying.\n"
     ]
    }
   ],
   "source": [
    "adata = sc.datasets.paul15()"
   ]
  },
  {
   "cell_type": "code",
   "execution_count": 5,
   "id": "502878c9",
   "metadata": {
    "collapsed": false,
    "jupyter": {
     "outputs_hidden": false
    },
    "pycharm": {
     "name": "#%%\n"
    }
   },
   "outputs": [
    {
     "data": {
      "text/plain": [
       "AnnData object with n_obs × n_vars = 2730 × 3451\n",
       "    obs: 'paul15_clusters'\n",
       "    uns: 'iroot'"
      ]
     },
     "execution_count": 5,
     "metadata": {},
     "output_type": "execute_result"
    }
   ],
   "source": [
    "adata"
   ]
  },
  {
   "cell_type": "markdown",
   "id": "0e464c56",
   "metadata": {},
   "source": [
    "### Adding information to the dataset"
   ]
  },
  {
   "cell_type": "code",
   "execution_count": 6,
   "id": "ab47fa9b",
   "metadata": {},
   "outputs": [],
   "source": [
    "# mitochondrial genes\n",
    "adata.var['mt'] = adata.var_names.str.startswith(\"Mt\")\n",
    "# ribosomal genes\n",
    "adata.var['ribo'] = adata.var_names.str.startswith((\"RPS\", \"RPL\", \"rps\", \"rpl\", \"Rps\", \"Rpl\"))\n",
    "# hemoglobin genes.\n",
    "adata.var['hb'] = adata.var_names.str.startswith(\"Hb\")"
   ]
  },
  {
   "cell_type": "markdown",
   "id": "d440777d",
   "metadata": {},
   "source": [
    "## Quality Control"
   ]
  },
  {
   "cell_type": "markdown",
   "id": "0029c63c",
   "metadata": {},
   "source": [
    "### Calculate QC"
   ]
  },
  {
   "cell_type": "code",
   "execution_count": 7,
   "id": "091eaa24",
   "metadata": {},
   "outputs": [],
   "source": [
    "#normal qc metrics \n",
    "sc.pp.calculate_qc_metrics(adata)\n",
    "\n",
    "#mt, ribo and hnn metrics\n",
    "sc.pp.calculate_qc_metrics(adata, qc_vars=['mt','ribo','hb'], percent_top=None, log1p=False, inplace=True)"
   ]
  },
  {
   "cell_type": "code",
   "execution_count": 8,
   "id": "c3a74376",
   "metadata": {},
   "outputs": [
    {
     "data": {
      "text/html": [
       "<div>\n",
       "<style scoped>\n",
       "    .dataframe tbody tr th:only-of-type {\n",
       "        vertical-align: middle;\n",
       "    }\n",
       "\n",
       "    .dataframe tbody tr th {\n",
       "        vertical-align: top;\n",
       "    }\n",
       "\n",
       "    .dataframe thead th {\n",
       "        text-align: right;\n",
       "    }\n",
       "</style>\n",
       "<table border=\"1\" class=\"dataframe\">\n",
       "  <thead>\n",
       "    <tr style=\"text-align: right;\">\n",
       "      <th></th>\n",
       "      <th>mt</th>\n",
       "      <th>ribo</th>\n",
       "      <th>hb</th>\n",
       "      <th>n_cells_by_counts</th>\n",
       "      <th>mean_counts</th>\n",
       "      <th>pct_dropout_by_counts</th>\n",
       "      <th>total_counts</th>\n",
       "    </tr>\n",
       "  </thead>\n",
       "  <tbody>\n",
       "    <tr>\n",
       "      <th>0610007L01Rik</th>\n",
       "      <td>False</td>\n",
       "      <td>False</td>\n",
       "      <td>False</td>\n",
       "      <td>935</td>\n",
       "      <td>0.490842</td>\n",
       "      <td>65.750916</td>\n",
       "      <td>1340.0</td>\n",
       "    </tr>\n",
       "    <tr>\n",
       "      <th>0610009O20Rik</th>\n",
       "      <td>False</td>\n",
       "      <td>False</td>\n",
       "      <td>False</td>\n",
       "      <td>598</td>\n",
       "      <td>0.283516</td>\n",
       "      <td>78.095238</td>\n",
       "      <td>774.0</td>\n",
       "    </tr>\n",
       "    <tr>\n",
       "      <th>0610010K14Rik</th>\n",
       "      <td>False</td>\n",
       "      <td>False</td>\n",
       "      <td>False</td>\n",
       "      <td>1842</td>\n",
       "      <td>1.513553</td>\n",
       "      <td>32.527473</td>\n",
       "      <td>4132.0</td>\n",
       "    </tr>\n",
       "    <tr>\n",
       "      <th>0910001L09Rik</th>\n",
       "      <td>False</td>\n",
       "      <td>False</td>\n",
       "      <td>False</td>\n",
       "      <td>1092</td>\n",
       "      <td>0.621978</td>\n",
       "      <td>60.000000</td>\n",
       "      <td>1698.0</td>\n",
       "    </tr>\n",
       "    <tr>\n",
       "      <th>1100001G20Rik</th>\n",
       "      <td>False</td>\n",
       "      <td>False</td>\n",
       "      <td>False</td>\n",
       "      <td>115</td>\n",
       "      <td>0.067766</td>\n",
       "      <td>95.787546</td>\n",
       "      <td>185.0</td>\n",
       "    </tr>\n",
       "    <tr>\n",
       "      <th>...</th>\n",
       "      <td>...</td>\n",
       "      <td>...</td>\n",
       "      <td>...</td>\n",
       "      <td>...</td>\n",
       "      <td>...</td>\n",
       "      <td>...</td>\n",
       "      <td>...</td>\n",
       "    </tr>\n",
       "    <tr>\n",
       "      <th>mKIAA1027</th>\n",
       "      <td>False</td>\n",
       "      <td>False</td>\n",
       "      <td>False</td>\n",
       "      <td>2281</td>\n",
       "      <td>2.776191</td>\n",
       "      <td>16.446886</td>\n",
       "      <td>7579.0</td>\n",
       "    </tr>\n",
       "    <tr>\n",
       "      <th>mKIAA1575</th>\n",
       "      <td>False</td>\n",
       "      <td>False</td>\n",
       "      <td>False</td>\n",
       "      <td>564</td>\n",
       "      <td>0.265568</td>\n",
       "      <td>79.340659</td>\n",
       "      <td>725.0</td>\n",
       "    </tr>\n",
       "    <tr>\n",
       "      <th>mKIAA1994</th>\n",
       "      <td>False</td>\n",
       "      <td>False</td>\n",
       "      <td>False</td>\n",
       "      <td>676</td>\n",
       "      <td>0.399267</td>\n",
       "      <td>75.238095</td>\n",
       "      <td>1090.0</td>\n",
       "    </tr>\n",
       "    <tr>\n",
       "      <th>rp9</th>\n",
       "      <td>False</td>\n",
       "      <td>False</td>\n",
       "      <td>False</td>\n",
       "      <td>1805</td>\n",
       "      <td>1.839927</td>\n",
       "      <td>33.882784</td>\n",
       "      <td>5023.0</td>\n",
       "    </tr>\n",
       "    <tr>\n",
       "      <th>slc43a2</th>\n",
       "      <td>False</td>\n",
       "      <td>False</td>\n",
       "      <td>False</td>\n",
       "      <td>156</td>\n",
       "      <td>0.063004</td>\n",
       "      <td>94.285714</td>\n",
       "      <td>172.0</td>\n",
       "    </tr>\n",
       "  </tbody>\n",
       "</table>\n",
       "<p>3451 rows × 7 columns</p>\n",
       "</div>"
      ],
      "text/plain": [
       "                  mt   ribo     hb  n_cells_by_counts  mean_counts  \\\n",
       "0610007L01Rik  False  False  False                935     0.490842   \n",
       "0610009O20Rik  False  False  False                598     0.283516   \n",
       "0610010K14Rik  False  False  False               1842     1.513553   \n",
       "0910001L09Rik  False  False  False               1092     0.621978   \n",
       "1100001G20Rik  False  False  False                115     0.067766   \n",
       "...              ...    ...    ...                ...          ...   \n",
       "mKIAA1027      False  False  False               2281     2.776191   \n",
       "mKIAA1575      False  False  False                564     0.265568   \n",
       "mKIAA1994      False  False  False                676     0.399267   \n",
       "rp9            False  False  False               1805     1.839927   \n",
       "slc43a2        False  False  False                156     0.063004   \n",
       "\n",
       "               pct_dropout_by_counts  total_counts  \n",
       "0610007L01Rik              65.750916        1340.0  \n",
       "0610009O20Rik              78.095238         774.0  \n",
       "0610010K14Rik              32.527473        4132.0  \n",
       "0910001L09Rik              60.000000        1698.0  \n",
       "1100001G20Rik              95.787546         185.0  \n",
       "...                              ...           ...  \n",
       "mKIAA1027                  16.446886        7579.0  \n",
       "mKIAA1575                  79.340659         725.0  \n",
       "mKIAA1994                  75.238095        1090.0  \n",
       "rp9                        33.882784        5023.0  \n",
       "slc43a2                    94.285714         172.0  \n",
       "\n",
       "[3451 rows x 7 columns]"
      ]
     },
     "execution_count": 8,
     "metadata": {},
     "output_type": "execute_result"
    }
   ],
   "source": [
    "adata.var"
   ]
  },
  {
   "cell_type": "code",
   "execution_count": 9,
   "id": "f3ac3543",
   "metadata": {},
   "outputs": [
    {
     "data": {
      "text/html": [
       "<div>\n",
       "<style scoped>\n",
       "    .dataframe tbody tr th:only-of-type {\n",
       "        vertical-align: middle;\n",
       "    }\n",
       "\n",
       "    .dataframe tbody tr th {\n",
       "        vertical-align: top;\n",
       "    }\n",
       "\n",
       "    .dataframe thead th {\n",
       "        text-align: right;\n",
       "    }\n",
       "</style>\n",
       "<table border=\"1\" class=\"dataframe\">\n",
       "  <thead>\n",
       "    <tr style=\"text-align: right;\">\n",
       "      <th></th>\n",
       "      <th>paul15_clusters</th>\n",
       "      <th>n_genes_by_counts</th>\n",
       "      <th>total_counts</th>\n",
       "      <th>total_counts_mt</th>\n",
       "      <th>pct_counts_mt</th>\n",
       "      <th>total_counts_ribo</th>\n",
       "      <th>pct_counts_ribo</th>\n",
       "      <th>total_counts_hb</th>\n",
       "      <th>pct_counts_hb</th>\n",
       "    </tr>\n",
       "  </thead>\n",
       "  <tbody>\n",
       "    <tr>\n",
       "      <th>0</th>\n",
       "      <td>7MEP</td>\n",
       "      <td>277</td>\n",
       "      <td>353.0</td>\n",
       "      <td>0.0</td>\n",
       "      <td>0.000000</td>\n",
       "      <td>27.0</td>\n",
       "      <td>7.648725</td>\n",
       "      <td>0.0</td>\n",
       "      <td>0.000000</td>\n",
       "    </tr>\n",
       "    <tr>\n",
       "      <th>1</th>\n",
       "      <td>15Mo</td>\n",
       "      <td>1021</td>\n",
       "      <td>2556.0</td>\n",
       "      <td>9.0</td>\n",
       "      <td>0.352113</td>\n",
       "      <td>138.0</td>\n",
       "      <td>5.399061</td>\n",
       "      <td>0.0</td>\n",
       "      <td>0.000000</td>\n",
       "    </tr>\n",
       "    <tr>\n",
       "      <th>2</th>\n",
       "      <td>3Ery</td>\n",
       "      <td>1466</td>\n",
       "      <td>4649.0</td>\n",
       "      <td>43.0</td>\n",
       "      <td>0.924930</td>\n",
       "      <td>247.0</td>\n",
       "      <td>5.312971</td>\n",
       "      <td>1.0</td>\n",
       "      <td>0.021510</td>\n",
       "    </tr>\n",
       "    <tr>\n",
       "      <th>3</th>\n",
       "      <td>15Mo</td>\n",
       "      <td>1415</td>\n",
       "      <td>4486.0</td>\n",
       "      <td>11.0</td>\n",
       "      <td>0.245207</td>\n",
       "      <td>149.0</td>\n",
       "      <td>3.321445</td>\n",
       "      <td>0.0</td>\n",
       "      <td>0.000000</td>\n",
       "    </tr>\n",
       "    <tr>\n",
       "      <th>4</th>\n",
       "      <td>3Ery</td>\n",
       "      <td>1505</td>\n",
       "      <td>5205.0</td>\n",
       "      <td>45.0</td>\n",
       "      <td>0.864553</td>\n",
       "      <td>290.0</td>\n",
       "      <td>5.571566</td>\n",
       "      <td>4.0</td>\n",
       "      <td>0.076849</td>\n",
       "    </tr>\n",
       "    <tr>\n",
       "      <th>...</th>\n",
       "      <td>...</td>\n",
       "      <td>...</td>\n",
       "      <td>...</td>\n",
       "      <td>...</td>\n",
       "      <td>...</td>\n",
       "      <td>...</td>\n",
       "      <td>...</td>\n",
       "      <td>...</td>\n",
       "      <td>...</td>\n",
       "    </tr>\n",
       "    <tr>\n",
       "      <th>2725</th>\n",
       "      <td>2Ery</td>\n",
       "      <td>1401</td>\n",
       "      <td>4873.0</td>\n",
       "      <td>62.0</td>\n",
       "      <td>1.272317</td>\n",
       "      <td>284.0</td>\n",
       "      <td>5.828032</td>\n",
       "      <td>0.0</td>\n",
       "      <td>0.000000</td>\n",
       "    </tr>\n",
       "    <tr>\n",
       "      <th>2726</th>\n",
       "      <td>13Baso</td>\n",
       "      <td>1209</td>\n",
       "      <td>3553.0</td>\n",
       "      <td>6.0</td>\n",
       "      <td>0.168871</td>\n",
       "      <td>217.0</td>\n",
       "      <td>6.107515</td>\n",
       "      <td>0.0</td>\n",
       "      <td>0.000000</td>\n",
       "    </tr>\n",
       "    <tr>\n",
       "      <th>2727</th>\n",
       "      <td>7MEP</td>\n",
       "      <td>322</td>\n",
       "      <td>443.0</td>\n",
       "      <td>0.0</td>\n",
       "      <td>0.000000</td>\n",
       "      <td>40.0</td>\n",
       "      <td>9.029346</td>\n",
       "      <td>0.0</td>\n",
       "      <td>0.000000</td>\n",
       "    </tr>\n",
       "    <tr>\n",
       "      <th>2728</th>\n",
       "      <td>15Mo</td>\n",
       "      <td>1196</td>\n",
       "      <td>3252.0</td>\n",
       "      <td>9.0</td>\n",
       "      <td>0.276753</td>\n",
       "      <td>152.0</td>\n",
       "      <td>4.674047</td>\n",
       "      <td>0.0</td>\n",
       "      <td>0.000000</td>\n",
       "    </tr>\n",
       "    <tr>\n",
       "      <th>2729</th>\n",
       "      <td>3Ery</td>\n",
       "      <td>1577</td>\n",
       "      <td>6401.0</td>\n",
       "      <td>49.0</td>\n",
       "      <td>0.765505</td>\n",
       "      <td>362.0</td>\n",
       "      <td>5.655366</td>\n",
       "      <td>1.0</td>\n",
       "      <td>0.015623</td>\n",
       "    </tr>\n",
       "  </tbody>\n",
       "</table>\n",
       "<p>2730 rows × 9 columns</p>\n",
       "</div>"
      ],
      "text/plain": [
       "     paul15_clusters  n_genes_by_counts  total_counts  total_counts_mt  \\\n",
       "0               7MEP                277         353.0              0.0   \n",
       "1               15Mo               1021        2556.0              9.0   \n",
       "2               3Ery               1466        4649.0             43.0   \n",
       "3               15Mo               1415        4486.0             11.0   \n",
       "4               3Ery               1505        5205.0             45.0   \n",
       "...              ...                ...           ...              ...   \n",
       "2725            2Ery               1401        4873.0             62.0   \n",
       "2726          13Baso               1209        3553.0              6.0   \n",
       "2727            7MEP                322         443.0              0.0   \n",
       "2728            15Mo               1196        3252.0              9.0   \n",
       "2729            3Ery               1577        6401.0             49.0   \n",
       "\n",
       "      pct_counts_mt  total_counts_ribo  pct_counts_ribo  total_counts_hb  \\\n",
       "0          0.000000               27.0         7.648725              0.0   \n",
       "1          0.352113              138.0         5.399061              0.0   \n",
       "2          0.924930              247.0         5.312971              1.0   \n",
       "3          0.245207              149.0         3.321445              0.0   \n",
       "4          0.864553              290.0         5.571566              4.0   \n",
       "...             ...                ...              ...              ...   \n",
       "2725       1.272317              284.0         5.828032              0.0   \n",
       "2726       0.168871              217.0         6.107515              0.0   \n",
       "2727       0.000000               40.0         9.029346              0.0   \n",
       "2728       0.276753              152.0         4.674047              0.0   \n",
       "2729       0.765505              362.0         5.655366              1.0   \n",
       "\n",
       "      pct_counts_hb  \n",
       "0          0.000000  \n",
       "1          0.000000  \n",
       "2          0.021510  \n",
       "3          0.000000  \n",
       "4          0.076849  \n",
       "...             ...  \n",
       "2725       0.000000  \n",
       "2726       0.000000  \n",
       "2727       0.000000  \n",
       "2728       0.000000  \n",
       "2729       0.015623  \n",
       "\n",
       "[2730 rows x 9 columns]"
      ]
     },
     "execution_count": 9,
     "metadata": {},
     "output_type": "execute_result"
    }
   ],
   "source": [
    "adata.obs"
   ]
  },
  {
   "cell_type": "markdown",
   "id": "5fb68bbd",
   "metadata": {},
   "source": [
    "### Plot QC"
   ]
  },
  {
   "cell_type": "code",
   "execution_count": 10,
   "id": "24093ab9",
   "metadata": {},
   "outputs": [
    {
     "name": "stderr",
     "output_type": "stream",
     "text": [
      "/home/dm/miniconda3/envs/pbmc_scrna/lib/python3.9/site-packages/scanpy/plotting/_utils.py:314: UserWarning: Matplotlib is currently using agg, which is a non-GUI backend, so cannot show the figure.\n",
      "  pl.show()\n"
     ]
    }
   ],
   "source": [
    "sc.pl.violin(adata, [\"total_counts\", \"n_genes_by_counts\", \"pct_counts_mt\", \"pct_counts_ribo\", \"pct_counts_hb\"], jitter=0.4, ncols=2, groupby='paul15_clusters', rotation=90)"
   ]
  },
  {
   "cell_type": "code",
   "execution_count": 11,
   "id": "6a277833",
   "metadata": {},
   "outputs": [],
   "source": [
    "sc.pl.scatter(adata, x=\"total_counts\", y=\"n_genes_by_counts\", color=\"paul15_clusters\")"
   ]
  },
  {
   "cell_type": "markdown",
   "id": "0f6ab1c9",
   "metadata": {},
   "source": [
    "## Normalization"
   ]
  },
  {
   "cell_type": "code",
   "execution_count": 12,
   "id": "7f110e6f",
   "metadata": {
    "collapsed": false,
    "jupyter": {
     "outputs_hidden": false
    },
    "pycharm": {
     "name": "#%%\n"
    }
   },
   "outputs": [
    {
     "name": "stdout",
     "output_type": "stream",
     "text": [
      "normalizing by total count per cell\n",
      "    finished (0:00:00): normalized adata.X and added    'n_counts', counts per cell before normalization (adata.obs)\n"
     ]
    },
    {
     "data": {
      "text/plain": [
       "AnnData object with n_obs × n_vars = 2730 × 3451\n",
       "    obs: 'paul15_clusters', 'n_genes_by_counts', 'total_counts', 'total_counts_mt', 'pct_counts_mt', 'total_counts_ribo', 'pct_counts_ribo', 'total_counts_hb', 'pct_counts_hb', 'n_counts'\n",
       "    var: 'mt', 'ribo', 'hb', 'n_cells_by_counts', 'mean_counts', 'pct_dropout_by_counts', 'total_counts'\n",
       "    uns: 'iroot', 'paul15_clusters_colors', 'log1p'"
      ]
     },
     "execution_count": 12,
     "metadata": {},
     "output_type": "execute_result"
    }
   ],
   "source": [
    "# normalize to depth 10 000 (CPM)\n",
    "sc.pp.normalize_per_cell(adata, counts_per_cell_after=1e4)\n",
    "\n",
    "# logaritmize\n",
    "sc.pp.log1p(adata)\n",
    "\n",
    "# store normalized counts in the raw slot,\n",
    "# we will subset adata.X for variable genes, but want to keep all genes matrix as well.\n",
    "adata.raw = adata\n",
    "\n",
    "adata"
   ]
  },
  {
   "cell_type": "markdown",
   "id": "8022dccb",
   "metadata": {},
   "source": [
    "## Filtering"
   ]
  },
  {
   "cell_type": "markdown",
   "id": "a23eb509",
   "metadata": {},
   "source": [
    "### Filtering genes and cells\n"
   ]
  },
  {
   "cell_type": "code",
   "execution_count": 13,
   "id": "a902d08b",
   "metadata": {
    "collapsed": false,
    "jupyter": {
     "outputs_hidden": false
    },
    "pycharm": {
     "name": "#%%\n"
    }
   },
   "outputs": [
    {
     "name": "stdout",
     "output_type": "stream",
     "text": [
      "filtered out 134 cells that have less than 300 genes expressed\n",
      "filtered out 1 genes that are detected in less than 3 cells\n",
      "2596 3450\n",
      "normalizing counts per cell\n",
      "    finished (0:00:00)\n"
     ]
    },
    {
     "name": "stderr",
     "output_type": "stream",
     "text": [
      "/home/dm/miniconda3/envs/pbmc_scrna/lib/python3.9/site-packages/scanpy/plotting/_utils.py:314: UserWarning: Matplotlib is currently using agg, which is a non-GUI backend, so cannot show the figure.\n",
      "  pl.show()\n"
     ]
    }
   ],
   "source": [
    "#filtering genes\n",
    "sc.pp.filter_cells(adata, min_genes=300)\n",
    "sc.pp.filter_genes(adata, min_cells=3) #trocar para 3-5 ou algo do genero\n",
    "\n",
    "print(adata.n_obs, adata.n_vars)\n",
    "\n",
    "sc.pl.highest_expr_genes(adata, n_top=20)"
   ]
  },
  {
   "cell_type": "markdown",
   "id": "37d7d5e8",
   "metadata": {},
   "source": [
    "### Filtering mitochondrial genes"
   ]
  },
  {
   "cell_type": "code",
   "execution_count": 14,
   "id": "09e75ac6",
   "metadata": {
    "collapsed": false,
    "jupyter": {
     "outputs_hidden": false
    },
    "pycharm": {
     "name": "#%%\n"
    }
   },
   "outputs": [
    {
     "name": "stdout",
     "output_type": "stream",
     "text": [
      "Remaining cells 2574\n"
     ]
    }
   ],
   "source": [
    "#mt expression\n",
    "# filter for percent mito\n",
    "\n",
    "adata = adata[adata.obs['pct_counts_mt'] < 1.7, :]\n",
    "\n",
    "# filter for percent ribo > 0.05\n",
    "adata = adata[adata.obs['pct_counts_ribo'] > 3, :]\n",
    "\n",
    "print(\"Remaining cells %d\"%adata.n_obs)"
   ]
  },
  {
   "cell_type": "markdown",
   "id": "28f38f65",
   "metadata": {},
   "source": [
    "## Data Correction"
   ]
  },
  {
   "cell_type": "markdown",
   "id": "c183c1e3",
   "metadata": {},
   "source": [
    "### Doublets"
   ]
  },
  {
   "cell_type": "code",
   "execution_count": 15,
   "id": "e07ddf26",
   "metadata": {
    "collapsed": false,
    "jupyter": {
     "outputs_hidden": false
    },
    "pycharm": {
     "name": "#%%\n"
    }
   },
   "outputs": [
    {
     "name": "stdout",
     "output_type": "stream",
     "text": [
      "Preprocessing...\n",
      "Simulating doublets...\n"
     ]
    },
    {
     "name": "stderr",
     "output_type": "stream",
     "text": [
      "/home/dm/miniconda3/envs/pbmc_scrna/lib/python3.9/site-packages/scrublet/helper_functions.py:241: RuntimeWarning: invalid value encountered in log\n",
      "  gLog = lambda input: np.log(input[1] * np.exp(-input[0]) + input[2])\n",
      "/home/dm/miniconda3/envs/pbmc_scrna/lib/python3.9/site-packages/scrublet/helper_functions.py:254: RuntimeWarning: invalid value encountered in sqrt\n",
      "  CV_input = np.sqrt(b);\n"
     ]
    },
    {
     "name": "stdout",
     "output_type": "stream",
     "text": [
      "Embedding transcriptomes using PCA...\n",
      "Calculating doublet scores...\n"
     ]
    },
    {
     "name": "stderr",
     "output_type": "stream",
     "text": [
      "Trying to set attribute `.obs` of view, copying.\n"
     ]
    },
    {
     "name": "stdout",
     "output_type": "stream",
     "text": [
      "Automatically set threshold at doublet score = 0.61\n",
      "Detected doublet rate = 0.0%\n",
      "Estimated detectable doublet fraction = 35.3%\n",
      "Overall doublet rate:\n",
      "\tExpected   = 10.0%\n",
      "\tEstimated  = 0.1%\n",
      "Elapsed time: 1.4 seconds\n"
     ]
    },
    {
     "data": {
      "text/plain": [
       "1"
      ]
     },
     "execution_count": 15,
     "metadata": {},
     "output_type": "execute_result"
    }
   ],
   "source": [
    "scrub = scr.Scrublet(adata.raw.X)\n",
    "adata.obs['doublet_scores'], adata.obs['predicted_doublets'] = scrub.scrub_doublets()\n",
    "scrub.plot_histogram()\n",
    "\n",
    "sum(adata.obs['predicted_doublets'])"
   ]
  },
  {
   "cell_type": "markdown",
   "id": "b39dbaa7",
   "metadata": {},
   "source": [
    "## Saving pre-processing results"
   ]
  },
  {
   "cell_type": "code",
   "execution_count": 16,
   "id": "e098bc22",
   "metadata": {
    "collapsed": false,
    "jupyter": {
     "outputs_hidden": false
    },
    "pycharm": {
     "name": "#%%\n"
    }
   },
   "outputs": [],
   "source": [
    "adata.write(results_file)"
   ]
  }
 ],
 "metadata": {
  "kernelspec": {
   "display_name": "Python 3 (ipykernel)",
   "language": "python",
   "name": "python3"
  },
  "language_info": {
   "codemirror_mode": {
    "name": "ipython",
    "version": 3
   },
   "file_extension": ".py",
   "mimetype": "text/x-python",
   "name": "python",
   "nbconvert_exporter": "python",
   "pygments_lexer": "ipython3",
   "version": "3.9.10"
  }
 },
 "nbformat": 4,
 "nbformat_minor": 5
}