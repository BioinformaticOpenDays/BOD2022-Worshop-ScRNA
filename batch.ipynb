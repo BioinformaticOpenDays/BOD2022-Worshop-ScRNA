{
 "cells": [
  {
   "cell_type": "markdown",
   "id": "e5c9390d",
   "metadata": {},
   "source": [
    "# Pre-Precessing scRNA-seq data"
   ]
  },
  {
   "cell_type": "markdown",
   "id": "4c817185",
   "metadata": {},
   "source": [
    "## Imports"
   ]
  },
  {
   "cell_type": "code",
   "execution_count": 12,
   "id": "d6a5eb71",
   "metadata": {},
   "outputs": [],
   "source": [
    "import matplotlib.pyplot as plt\n",
    "import scanpy as sc\n",
    "import scanpy.external as sce\n",
    "import scrublet as scr\n",
    "import harmonypy as harm"
   ]
  },
  {
   "cell_type": "markdown",
   "id": "c2393871",
   "metadata": {},
   "source": [
    "## Load and prepare dataset"
   ]
  },
  {
   "cell_type": "markdown",
   "id": "45b0ee78",
   "metadata": {},
   "source": [
    "Here we are setting ***scanpy*** to show us warnings and stetting the size of the pictures it will generate."
   ]
  },
  {
   "cell_type": "code",
   "execution_count": 13,
   "id": "bf0e0fd3",
   "metadata": {},
   "outputs": [],
   "source": [
    "sc.settings.verbosity = 3\n",
    "sc.settings.set_figure_params(dpi=80)\n",
    "\n",
    "results_file = 'preprocessing/preprocessed.h5ad'  # the file that will store the analysis results\n",
    "\n",
    "sc.settings.verbosity = 3             # verbosity: errors (0), warnings (1), info (2), hints (3)\n",
    "sc.settings.set_figure_params(dpi=80, facecolor='white')\n",
    "\n",
    "adata = sc.read(results_file)"
   ]
  },
  {
   "cell_type": "markdown",
   "id": "de4dcdb2",
   "metadata": {},
   "source": [
    "## Batch Effect correction"
   ]
  },
  {
   "cell_type": "code",
   "execution_count": 14,
   "outputs": [
    {
     "name": "stdout",
     "output_type": "stream",
     "text": [
      "computing PCA\n",
      "    with n_comps=50\n",
      "    finished (0:00:01)\n"
     ]
    },
    {
     "name": "stderr",
     "output_type": "stream",
     "text": [
      "2022-03-03 16:14:17,449 - harmonypy - INFO - Iteration 1 of 10\n",
      "2022-03-03 16:14:17,926 - harmonypy - INFO - Iteration 2 of 10\n",
      "2022-03-03 16:14:18,427 - harmonypy - INFO - Iteration 3 of 10\n",
      "2022-03-03 16:14:18,922 - harmonypy - INFO - Iteration 4 of 10\n",
      "2022-03-03 16:14:19,198 - harmonypy - INFO - Iteration 5 of 10\n",
      "2022-03-03 16:14:19,536 - harmonypy - INFO - Iteration 6 of 10\n",
      "2022-03-03 16:14:19,843 - harmonypy - INFO - Iteration 7 of 10\n",
      "2022-03-03 16:14:20,051 - harmonypy - INFO - Iteration 8 of 10\n",
      "2022-03-03 16:14:20,256 - harmonypy - INFO - Iteration 9 of 10\n",
      "2022-03-03 16:14:20,473 - harmonypy - INFO - Iteration 10 of 10\n",
      "2022-03-03 16:14:20,662 - harmonypy - INFO - Stopped before convergence\n"
     ]
    },
    {
     "data": {
      "text/plain": "True"
     },
     "execution_count": 14,
     "metadata": {},
     "output_type": "execute_result"
    }
   ],
   "source": [
    "sc.tl.pca(adata)\n",
    "sce.pp.harmony_integrate(adata, 'paul15_clusters')\n",
    "\n",
    "'X_pca_harmony' in adata.obsm"
   ],
   "metadata": {
    "collapsed": false,
    "pycharm": {
     "name": "#%%\n"
    }
   }
  },
  {
   "cell_type": "markdown",
   "source": [
    "## Saving pre-processing results"
   ],
   "metadata": {
    "collapsed": false
   }
  },
  {
   "cell_type": "code",
   "execution_count": 15,
   "id": "e098bc22",
   "metadata": {
    "collapsed": false,
    "jupyter": {
     "outputs_hidden": false
    },
    "pycharm": {
     "name": "#%%\n"
    }
   },
   "outputs": [],
   "source": [
    "adata.write(results_file)"
   ]
  }
 ],
 "metadata": {
  "kernelspec": {
   "display_name": "Python 3 (ipykernel)",
   "language": "python",
   "name": "python3"
  },
  "language_info": {
   "codemirror_mode": {
    "name": "ipython",
    "version": 3
   },
   "file_extension": ".py",
   "mimetype": "text/x-python",
   "name": "python",
   "nbconvert_exporter": "python",
   "pygments_lexer": "ipython3",
   "version": "3.9.10"
  }
 },
 "nbformat": 4,
 "nbformat_minor": 5
}